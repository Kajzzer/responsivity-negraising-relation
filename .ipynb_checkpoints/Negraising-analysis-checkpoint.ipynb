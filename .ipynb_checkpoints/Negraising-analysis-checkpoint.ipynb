{
 "cells": [
  {
   "cell_type": "markdown",
   "metadata": {},
   "source": [
    "# Introduction\n",
    "#### Author: Kaj Meijer\n",
    "This notebook contains code that was used to analyse the neg-raising data and retrieve the standard deviation and mean for **The relation of responsivity and neg-raising**"
   ]
  },
  {
   "cell_type": "code",
   "execution_count": 1,
   "metadata": {},
   "outputs": [],
   "source": [
    "# import block\n",
    "import pandas as pd\n",
    "import numpy as np"
   ]
  },
  {
   "cell_type": "code",
   "execution_count": 2,
   "metadata": {},
   "outputs": [],
   "source": [
    "# load the negraising dataset\n",
    "df_negraising = pd.read_csv('data/mega-negraising-v1.tsv', sep=\"\\t\")"
   ]
  },
  {
   "cell_type": "code",
   "execution_count": 3,
   "metadata": {},
   "outputs": [],
   "source": [
    "class NegRaising:\n",
    "    \n",
    "    '''\n",
    "    Constructor\n",
    "    @param pd.DataFrame  The neg-raising dataframe\n",
    "    '''\n",
    "    def __init__(self, dataframe):\n",
    "        \n",
    "        # initialize the class variables\n",
    "        self._dataframe = dataframe\n",
    "        self._verbs = dataframe.verb.unique()\n",
    "        self._frames = dataframe.frame.unique()\n",
    "        self._tenses = dataframe.tense.unique()\n",
    "        self._subjects = dataframe.subject.unique()\n",
    "        self._columns = None\n",
    "        self._averages = None\n",
    "\n",
    "    '''\n",
    "    Function to create the columns for the resulting dataframe\n",
    "    @return np.array  List with the column names of the analysed data\n",
    "    '''\n",
    "    def create_columns(self):\n",
    "        \n",
    "        # return the columns if they've already been created\n",
    "        if self._columns:\n",
    "            return self._columns\n",
    "        \n",
    "        # base list for the columns\n",
    "        columns = ['verb']\n",
    "        \n",
    "        # iterate over the frames, tensen and subjects\n",
    "        for frame in self._frames:\n",
    "            for tense in self._tenses:\n",
    "                for subject in self._subjects:\n",
    "            \n",
    "                    # add column names based on the frame, subject and tense\n",
    "                    columns.append(frame+'{'+subject+\", \"+tense+'}')\n",
    "                \n",
    "        # add column names for the tenses\n",
    "        for tense in self._tenses:\n",
    "            columns.append(\"tense: \"+tense)\n",
    "            \n",
    "        # add column names for the subjects\n",
    "        for subject in self._subjects:\n",
    "            columns.append(\"subject: \"+subject)\n",
    "            \n",
    "        # add the total column at the end\n",
    "        columns.append('total')\n",
    "        \n",
    "        # convert to numpy array\n",
    "        columns = np.array(columns)\n",
    "        \n",
    "        # store the columns\n",
    "        self._columns = columns\n",
    "        \n",
    "        # return the columns\n",
    "        return columns\n",
    "    \n",
    "    '''\n",
    "    Get the average score of a frame\n",
    "    @param  string    The verb\n",
    "    @param  string    The frame\n",
    "    @param  string    The subject\n",
    "    @param  string    The tense\n",
    "    @return float     The mean of the frame\n",
    "    '''\n",
    "    def frame_average(self, verb, frame, subject = 'third', tense = 'past'):\n",
    "        \n",
    "        # retrieve the judgements of this frame\n",
    "        judgements = self._dataframe.loc[(self._dataframe.verb == verb) & (self._dataframe.frame == frame) &\n",
    "                           (self._dataframe.tense == tense) & (self._dataframe.subject == subject)]\n",
    "        \n",
    "        # remove NaN values\n",
    "        cleaned = judgements.negraising.dropna().values\n",
    "        \n",
    "        # check if there are still any values left, otherwise return 0\n",
    "        if not len(cleaned):\n",
    "            return 0\n",
    "        \n",
    "        # return the mean of the cleaned judgements\n",
    "        return np.mean(cleaned)\n",
    "    \n",
    "    '''\n",
    "    Get the average score of a frame\n",
    "    @param  string    The verb\n",
    "    @param  string    The tense\n",
    "    @return float     The mean of the tense\n",
    "    '''\n",
    "    def tense_averages(self, verb, tense):\n",
    "        \n",
    "        # retrieve the judgements of this tense\n",
    "        judgements = self._dataframe.loc[(self._dataframe.verb == verb) & (self._dataframe.tense == tense)]\n",
    "        \n",
    "        # remove NaN values\n",
    "        cleaned = judgements.negraising.dropna().values\n",
    "        \n",
    "        # check if there are still any values left, otherwise return 0\n",
    "        if not len(cleaned):\n",
    "            return 0\n",
    "        \n",
    "        # return the mean of the cleaned judgements\n",
    "        return np.mean(cleaned)\n",
    "    \n",
    "    '''\n",
    "    Get the average score of a frame\n",
    "    @param  string    The verb\n",
    "    @param  string    The subject\n",
    "    @return float     The mean of the subject\n",
    "    '''\n",
    "    def subject_averages(self, verb, subject):\n",
    "        \n",
    "        # retrieve the judgements of this subject\n",
    "        judgements = self._dataframe.loc[(self._dataframe.verb == verb) & (self._dataframe.subject == subject)]\n",
    "        \n",
    "        # remove NaN values\n",
    "        cleaned = judgements.negraising.dropna().values\n",
    "        \n",
    "        # check if there are still any values left, otherwise return 0\n",
    "        if not len(cleaned):\n",
    "            return 0\n",
    "        \n",
    "        # return the mean of the cleaned judgements\n",
    "        return np.mean(cleaned)\n",
    "    \n",
    "    '''\n",
    "    Get the average score of a frame\n",
    "    @param  string    The verb\n",
    "    @return float     The mean of the verb\n",
    "    '''\n",
    "    def total_average(self, verb):\n",
    "        \n",
    "        # retrieve the judgements of this verb\n",
    "        judgements = self._dataframe.loc[(self._dataframe.verb == verb)]\n",
    "        \n",
    "        # remove NaN values\n",
    "        cleaned = judgements.negraising.dropna().values\n",
    "        \n",
    "        # check if there are still any values left, otherwise return 0\n",
    "        if not len(cleaned):\n",
    "            return 0\n",
    "        \n",
    "        # return the mean of the cleaned judgements\n",
    "        return np.mean(cleaned)\n",
    "    \n",
    "    '''\n",
    "    Get the means of all frame-subject-tense combinations, tense means, \n",
    "    subject means and total mean for a verb\n",
    "    @param  string    The verb\n",
    "    @return np.array  The mean of the frame\n",
    "    '''\n",
    "    def verb_averages(self, verb):\n",
    "        \n",
    "        # the initial list of averages contain the verb itself\n",
    "        averages = [verb]\n",
    "        \n",
    "        # add the means for all the frames\n",
    "        for frame in self._frames:\n",
    "            for tense in self._tenses:\n",
    "                for subject in self._subjects:            \n",
    "                    averages.append(self.frame_average(verb, frame))\n",
    "                \n",
    "        # add the means for the tenses\n",
    "        for tense in self._tenses:\n",
    "            averages.append(self.tense_averages(verb, tense))\n",
    "        \n",
    "        # add the means for the subjects\n",
    "        for subject in self._subjects:\n",
    "            averages.append(self.subject_averages(verb, subject))\n",
    "            \n",
    "        # add the total mean\n",
    "        averages.append(self.total_average(verb))\n",
    "            \n",
    "        # return the \n",
    "        return averages\n",
    "    \n",
    "    '''\n",
    "    Get the average score of a frame\n",
    "    @param  string    The verb\n",
    "    @param  string    The frame\n",
    "    @param  string    The subject\n",
    "    @param  string    The tense\n",
    "    @return np.array  The mean of the frame\n",
    "    '''\n",
    "    def averages(self):\n",
    "        \n",
    "        # return the averages if they've already been created\n",
    "        if self._averages:\n",
    "            return self._averages\n",
    "        \n",
    "        # initial list of averages\n",
    "        averages = []\n",
    "        \n",
    "        # add the averages of all verbs\n",
    "        for verb in self._verbs:\n",
    "            averages.append(self.verb_averages(verb))\n",
    "            \n",
    "        # convert to numpy array\n",
    "        averages = np.array(averages)    \n",
    "            \n",
    "        # store the averages\n",
    "        self._averages = averages\n",
    "        \n",
    "        # return the averages\n",
    "        return averages\n",
    "    \n",
    "    '''\n",
    "    Reset the averages so they will be calculated again\n",
    "    '''\n",
    "    def reset_averages(self):\n",
    "        self._averages = None\n",
    "    \n",
    "    '''\n",
    "    Convert the averages to a pandas dataframe\n",
    "    @return pd.DataFrame  The dataframe containing the averages\n",
    "    '''\n",
    "    def to_dataframe(self):\n",
    "        \n",
    "        # create the columns\n",
    "        columns = self.create_columns()\n",
    "        \n",
    "        # get the averages\n",
    "        data = self.averages().T\n",
    "        \n",
    "        # create the dataframe\n",
    "        df = pd.DataFrame(data, columns)\n",
    "        \n",
    "        # return the transposed dataframe \n",
    "        return df.T\n",
    "    "
   ]
  },
  {
   "cell_type": "code",
   "execution_count": 4,
   "metadata": {},
   "outputs": [],
   "source": [
    "# initialize the object\n",
    "nr = NegRaising(df_negraising)"
   ]
  },
  {
   "cell_type": "code",
   "execution_count": 5,
   "metadata": {
    "scrolled": true
   },
   "outputs": [],
   "source": [
    "# create the neg-raising dataframe\n",
    "df = nr.to_dataframe()"
   ]
  },
  {
   "cell_type": "code",
   "execution_count": 6,
   "metadata": {},
   "outputs": [],
   "source": [
    "# write the dataframe to a file\n",
    "df.to_csv('data/negraising-averages.csv')"
   ]
  },
  {
   "cell_type": "code",
   "execution_count": 7,
   "metadata": {},
   "outputs": [
    {
     "data": {
      "text/plain": [
       "0.356346397000897"
      ]
     },
     "execution_count": 7,
     "metadata": {},
     "output_type": "execute_result"
    }
   ],
   "source": [
    "# get the mean of the total values\n",
    "np.mean(list(map(float, df.total.values)))"
   ]
  },
  {
   "cell_type": "code",
   "execution_count": 8,
   "metadata": {
    "scrolled": false
   },
   "outputs": [
    {
     "data": {
      "text/plain": [
       "0.0835944835726565"
      ]
     },
     "execution_count": 8,
     "metadata": {},
     "output_type": "execute_result"
    }
   ],
   "source": [
    "# get the mean of the total values\n",
    "np.std(list(map(float, df.total.values)))"
   ]
  },
  {
   "cell_type": "code",
   "execution_count": 9,
   "metadata": {},
   "outputs": [
    {
     "data": {
      "text/plain": [
       "0.3466339809289809"
      ]
     },
     "execution_count": 9,
     "metadata": {},
     "output_type": "execute_result"
    }
   ],
   "source": [
    "# get the mean of the first subject values\n",
    "np.mean(list(map(float, df['subject: first'].values)))"
   ]
  },
  {
   "cell_type": "code",
   "execution_count": 10,
   "metadata": {},
   "outputs": [
    {
     "data": {
      "text/plain": [
       "0.36605881307281307"
      ]
     },
     "execution_count": 10,
     "metadata": {},
     "output_type": "execute_result"
    }
   ],
   "source": [
    "# get the mean of the third subject values\n",
    "np.mean(list(map(float, df['subject: third'].values)))"
   ]
  },
  {
   "cell_type": "code",
   "execution_count": 11,
   "metadata": {},
   "outputs": [
    {
     "data": {
      "text/plain": [
       "0.3092116216216216"
      ]
     },
     "execution_count": 11,
     "metadata": {},
     "output_type": "execute_result"
    }
   ],
   "source": [
    "# get the mean of the present tense values\n",
    "np.mean(list(map(float, df['tense: present'].values)))"
   ]
  },
  {
   "cell_type": "code",
   "execution_count": 12,
   "metadata": {},
   "outputs": [
    {
     "data": {
      "text/plain": [
       "0.3509744324324324"
      ]
     },
     "execution_count": 12,
     "metadata": {},
     "output_type": "execute_result"
    }
   ],
   "source": [
    "# get the mean of the past tense values\n",
    "np.mean(list(map(float, df['tense: past'].values)))"
   ]
  },
  {
   "cell_type": "code",
   "execution_count": 13,
   "metadata": {},
   "outputs": [
    {
     "data": {
      "text/plain": [
       "0.2170064864864865"
      ]
     },
     "execution_count": 13,
     "metadata": {},
     "output_type": "execute_result"
    }
   ],
   "source": [
    "# get the mean of the NP V that S frame in the third subject and past tense\n",
    "np.mean(list(map(float, df['NP V that S{third, past}'].values)))"
   ]
  },
  {
   "cell_type": "code",
   "execution_count": 14,
   "metadata": {},
   "outputs": [
    {
     "data": {
      "text/plain": [
       "0.1958441077809595"
      ]
     },
     "execution_count": 14,
     "metadata": {},
     "output_type": "execute_result"
    }
   ],
   "source": [
    "# get the mean of the NP V that S frame in the third subject and past tense\n",
    "np.std(list(map(float, df['NP V that S{third, past}'].values)))"
   ]
  },
  {
   "cell_type": "code",
   "execution_count": 15,
   "metadata": {},
   "outputs": [
    {
     "data": {
      "text/plain": [
       "0.754"
      ]
     },
     "execution_count": 15,
     "metadata": {},
     "output_type": "execute_result"
    }
   ],
   "source": [
    "# get the max of the NP V that S frame in the third subject and past tense\n",
    "np.max(list(map(float, df['NP V that S{third, past}'].values)))"
   ]
  },
  {
   "cell_type": "code",
   "execution_count": 16,
   "metadata": {},
   "outputs": [
    {
     "name": "stdout",
     "output_type": "stream",
     "text": [
      "0.5109999999999999\n"
     ]
    }
   ],
   "source": [
    "# get the values of our frame\n",
    "nr_values = list(map(float, df['NP V that S{third, past}'].values))\n",
    "\n",
    "# sort the values\n",
    "sorted_values = sorted(nr_values, reverse=True)\n",
    "\n",
    "# get the total number of predicates\n",
    "total = len(df_negraising.verb.unique())\n",
    "\n",
    "# get the threshold for the top 4% of the predicates\n",
    "print(sorted_values[round(total/ 20)])"
   ]
  },
  {
   "cell_type": "code",
   "execution_count": null,
   "metadata": {},
   "outputs": [],
   "source": []
  }
 ],
 "metadata": {
  "kernelspec": {
   "display_name": "Python 3",
   "language": "python",
   "name": "python3"
  },
  "language_info": {
   "codemirror_mode": {
    "name": "ipython",
    "version": 3
   },
   "file_extension": ".py",
   "mimetype": "text/x-python",
   "name": "python",
   "nbconvert_exporter": "python",
   "pygments_lexer": "ipython3",
   "version": "3.7.0"
  }
 },
 "nbformat": 4,
 "nbformat_minor": 2
}
